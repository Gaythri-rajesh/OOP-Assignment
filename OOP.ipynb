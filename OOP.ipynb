{
  "nbformat": 4,
  "nbformat_minor": 0,
  "metadata": {
    "colab": {
      "provenance": []
    },
    "kernelspec": {
      "name": "python3",
      "display_name": "Python 3"
    },
    "language_info": {
      "name": "python"
    }
  },
  "cells": [
    {
      "cell_type": "markdown",
      "source": [
        "1. What is Object-Oriented Programming (OOP)?\n",
        "\n",
        "    -> Object-Oriented Programming (OOP) is a programming paradigm based on the concept of \"objects\", which can contain data (attributes or properties) and methods (functions or behaviors).\n",
        "\n",
        "    Object-Oriented Programming (OOP) is a programming paradigm based on the concept of \"objects\", which are instances of classes. These objects can contain:\n",
        "\n",
        "    1.Data (called attributes or properties)\n",
        "\n",
        "    2.Functions (called methods) that operate on the data.\n",
        "\n",
        "    Key Features of OOP:\n",
        "\n",
        "    1.Class:\n",
        "\n",
        "    A blueprint or template to create objects. It defines what attributes and methods an object will have.\n",
        "\n",
        "    2.Object:\n",
        "\n",
        "    A specific instance of a class with actual values assigned to its attributes.\n",
        "\n",
        "    3.Encapsulation:\n",
        "    \n",
        "    Binding data and methods together and restricting access to some parts of the object to protect the internal state.\n",
        "\n",
        "    4.Inheritance:\n",
        "\n",
        "    One class (child) can inherit properties and methods from another class (parent), allowing code reuse.\n",
        "\n",
        "    5.Polymorphism:\n",
        "\n",
        "    Ability of different objects to respond in a unique way to the same method name.\n",
        "\n",
        "    6.Abstraction:\n",
        "\n",
        "    Hiding the complex internal logic and showing only the necessary details to the user.\n",
        "\n",
        "    Advantages of OOP:\n",
        "\n",
        "    . Encourages modular and reusable code.\n",
        "\n",
        "    . Makes complex software easier to manage and scale.\n",
        "\n",
        "    . Enhances security through encapsulation.\n",
        "\n",
        "    . Provides clear structure for programs.\n",
        "\n",
        "2. What is a class in OOP?\n",
        "\n",
        "    -> A class in OOP is a blueprint or template used to create objects. It defines the attributes (data) and methods (functions) that the objects created from the class will have.\n",
        "\n",
        "    You can think of a class like a design or plan — for example, a \"Car\" class defines what a car is (its features like color, model, speed), but it's not an actual car. The real cars (objects) are made based on that design.\n",
        "\n",
        "    Example in Python\n",
        "\n",
        "    class Car:\n",
        "    def __init__(self, brand, color):\n",
        "\n",
        "    self.brand = brand        \n",
        "\n",
        "    self.color = color        \n",
        "\n",
        "    def drive(self):              \n",
        "\n",
        "    print(f\"{self.color} {self.brand} is driving\")\n",
        "\n",
        "3. What is an object in OOP?\n",
        "\n",
        "    -> An object is a real-world instance of a class. It contains actual data and can perform actions defined by the class. In simple terms:\n",
        "\n",
        "    Example in Python:\n",
        "\n",
        "    class Person:\n",
        "\n",
        "    def __init__(self, name, age):\n",
        "\n",
        "    self.name = name      \n",
        "        \n",
        "    self.age = age        \n",
        "\n",
        "    def greet(self):         \n",
        "    \n",
        "    print(f\"Hi, I'm {self.name} and I'm {self.age} years old.\")\n",
        "\n",
        "    p1 = Person(\"Alice\", 25)\n",
        "\n",
        "    p2 = Person(\"Bob\", 30)\n",
        "\n",
        "    p1.greet()   # Output: Hi, I'm Alice and I'm 25 years old.\n",
        "\n",
        "    p2.greet()   # Output: Hi, I'm Bob and I'm 30 years old.\n",
        "\n",
        "    What It Shows:\n",
        "\n",
        "    . p1 and p2 are objects.\n",
        "\n",
        "    . Each object has its own data (name, age).\n",
        "\n",
        "    . They use the methods defined in the class (greet()).\n",
        "\n",
        "    Summary:\n",
        "\n",
        "    . An object is a concrete entity created from a class.\n",
        "\n",
        "    . It holds actual values and can perform actions (methods).\n",
        "\n",
        "    . You can create many objects from one class, each with different data.\n",
        "\n",
        "4. What is the difference between abstraction and encapsulation?\n",
        "\n",
        "    -> 1. Abstraction: Abstraction is the process of hiding unnecessary details and showing only the essential features of an object.\n",
        "\n",
        "    Goal: To reduce complexity by only exposing what is relevant to the user.\n",
        "\n",
        "    Example:\n",
        "\n",
        "    When you drive a car, you just use the steering wheel and pedals. You don’t need to know how the engine works internally — that’s abstraction.\n",
        "\n",
        "    2.Encapsulation: Encapsulation is the process of binding data and methods that work on that data into a single unit (class) and restricting access to some parts.\n",
        "\n",
        "    Goal: To protect data from unauthorized access and modification.\n",
        "\n",
        "    Example: You can set and get your bank account balance through methods, but you can't directly change the balance from outside the class.\n",
        "\n",
        "    \n",
        "\n",
        "\n",
        "\n",
        "\n",
        "   \n"
      ],
      "metadata": {
        "id": "j-SI8_9toRBZ"
      }
    },
    {
      "cell_type": "code",
      "source": [],
      "metadata": {
        "colab": {
          "base_uri": "https://localhost:8080/",
          "height": 233
        },
        "id": "-0lYX0Qrx6JI",
        "outputId": "18613cef-a19d-49ff-d45a-762e6e0a37b2"
      },
      "execution_count": null,
      "outputs": [
        {
          "output_type": "display_data",
          "data": {
            "text/plain": [
              "<IPython.core.display.HTML object>"
            ],
            "text/html": [
              "\n",
              "<table border=\"1\" cellpadding=\"10\" cellspacing=\"0\">\n",
              "    <caption><strong>Difference Between Abstraction and Encapsulation</strong></caption>\n",
              "    <tr>\n",
              "        <th>Feature</th>\n",
              "        <th>Abstraction</th>\n",
              "        <th>Encapsulation</th>\n",
              "    </tr>\n",
              "    <tr>\n",
              "        <td>Focus</td>\n",
              "        <td>Hiding complexity</td>\n",
              "        <td>Hiding data</td>\n",
              "    </tr>\n",
              "    <tr>\n",
              "        <td>Purpose</td>\n",
              "        <td>Show only essential features to the user</td>\n",
              "        <td>Restrict direct access to internal data</td>\n",
              "    </tr>\n",
              "    <tr>\n",
              "        <td>Implementation</td>\n",
              "        <td>Using abstract classes and interfaces</td>\n",
              "        <td>Using access modifiers (private, public, etc.)</td>\n",
              "    </tr>\n",
              "    <tr>\n",
              "        <td>Example</td>\n",
              "        <td>ATM shows interface, hides internal logic</td>\n",
              "        <td>Bank account hides balance inside private variable</td>\n",
              "    </tr>\n",
              "</table>\n"
            ]
          },
          "metadata": {}
        }
      ]
    },
    {
      "cell_type": "markdown",
      "source": [
        "5. What are dunder methods in Python?\n",
        "\n",
        "    -> Dunder methods in Python are special methods that begin and end with double underscores (e.g., __init__, __str__, __len__).\n",
        "    “Dunder” is short for “double underscore.”\n",
        "\n",
        "    These methods are also called magic methods and are used to define how objects of a class should behave with built-in functions and operators.\n",
        "\n",
        "    Example in Python\n",
        "\n",
        "    class Student:\n",
        "    \n",
        "    def __init__(self, name, marks):\n",
        "    \n",
        "    self.name = name\n",
        "    \n",
        "    self.marks = marks\n",
        "\n",
        "    def __str__(self):\n",
        "    \n",
        "    return f\"Student: {self.name}\"\n",
        "\n",
        "    def __len__(self):\n",
        "    \n",
        "    return len(self.marks)\n",
        "\n",
        "    student1 = Student(\"Riya\", [85, 90, 95])\n",
        "    \n",
        "    print(student1)        # Output: Student: Riya\n",
        "    \n",
        "    print(len(student1))   # Output: 3\n",
        "\n",
        "    \n"
      ],
      "metadata": {
        "id": "Ekyxwb3Nx-VX"
      }
    },
    {
      "cell_type": "code",
      "source": [
        "\n"
      ],
      "metadata": {
        "colab": {
          "base_uri": "https://localhost:8080/",
          "height": 245
        },
        "id": "tX8vX0eID2KM",
        "outputId": "01b7ebea-f46e-465b-a013-257379146a4a"
      },
      "execution_count": null,
      "outputs": [
        {
          "output_type": "execute_result",
          "data": {
            "text/plain": [
              "<IPython.core.display.HTML object>"
            ],
            "text/html": [
              "\n",
              "<table border=\"1\" cellpadding=\"10\" cellspacing=\"0\" style=\"border-collapse: collapse; font-family: Arial;\">\n",
              "  <caption style=\"font-size: 20px; font-weight: bold; margin-bottom: 10px;\">Abstraction vs Encapsulation</caption>\n",
              "  <tr style=\"background-color: #4CAF50; color: white;\">\n",
              "    <th>Feature</th>\n",
              "    <th>Abstraction</th>\n",
              "    <th>Encapsulation</th>\n",
              "  </tr>\n",
              "  <tr>\n",
              "    <td>Focus</td>\n",
              "    <td>Hiding complexity</td>\n",
              "    <td>Hiding data</td>\n",
              "  </tr>\n",
              "  <tr>\n",
              "    <td>Purpose</td>\n",
              "    <td>Show only essential features to the user</td>\n",
              "    <td>Restrict direct access to internal data</td>\n",
              "  </tr>\n",
              "  <tr>\n",
              "    <td>Implementation</td>\n",
              "    <td>Using abstract classes and interfaces</td>\n",
              "    <td>Using access modifiers (private, public, etc.)</td>\n",
              "  </tr>\n",
              "  <tr>\n",
              "    <td>Example</td>\n",
              "    <td>ATM shows interface, hides internal logic</td>\n",
              "    <td>Bank account hides balance inside private variable</td>\n",
              "  </tr>\n",
              "</table>\n"
            ]
          },
          "metadata": {},
          "execution_count": 8
        }
      ]
    },
    {
      "cell_type": "markdown",
      "source": [
        "6. Explain the concept of inheritance in OOP?\n",
        "\n",
        "    -> Inheritance is an OOP concept that allows a class (child/subclass) to inherit attributes and methods from another class (parent/superclass).\n",
        "\n",
        "    It helps achieve code reusability, hierarchical classification, and makes programs easier to maintain.\n",
        "\n",
        "    Key Terms:\n",
        "\n",
        "    :- Parent Class (Super Class): The class whose properties are inherited.\n",
        "\n",
        "    :- Child Class (Sub Class): The class that inherits from the parent class.\n",
        "\n",
        "    Parent class\n",
        "    \n",
        "    Python Example:\n",
        "    \n",
        "    class Animal:\n",
        "    \n",
        "    def speak(self):\n",
        "    \n",
        "    print(\"Animal speaks\")\n",
        "\n",
        "    Child class inheriting from Animal\n",
        "    \n",
        "    class Dog(Animal):\n",
        "    \n",
        "    def bark(self):\n",
        "    \n",
        "    print(\"Dog barks\")\n",
        "\n",
        "    Create object of Dog\n",
        "\n",
        "    d = Dog()\n",
        "\n",
        "    d.speak()   Inherited from Animal\n",
        "    \n",
        "    d.bark()    Defined in Dog\n",
        "\n",
        "    Output :\n",
        "    \n",
        "    Animal speaks\n",
        "    \n",
        "    Dog barks\n",
        "\n",
        "7. What is polymorphism in OOP?\n",
        "\n",
        "    -> Polymorphism is an OOP concept that means \"many forms\". It allows different classes to define methods with the same name, but with behavior specific to their class.\n",
        "\n",
        "    In simple terms, the same function or method behaves differently depending on the object calling it.\n",
        "\n",
        "    Why is Polymorphism Useful-\n",
        "\n",
        "    -It allows one interface to be used for different data types.\n",
        "\n",
        "    -It improves code flexibility, scalability, and supports method overriding.\n",
        "\n",
        "    Python Example\n",
        "     \n",
        "    class Animal:\n",
        "    \n",
        "    def speak(self):\n",
        "    \n",
        "    print(\"Animal speaks\")\n",
        "\n",
        "    class Dog(Animal):\n",
        "    \n",
        "    def speak(self):\n",
        "    \n",
        "    print(\"Dog barks\")\n",
        "\n",
        "    class Cat(Animal):\n",
        "    \n",
        "    def speak(self):\n",
        "    \n",
        "    print(\"Cat meows\")\n",
        "\n",
        "    Function that uses polymorphism\n",
        "    \n",
        "    def make_animal_speak(animal):\n",
        "    \n",
        "    animal.speak()\n",
        "\n",
        "    Using the same function for different types\n",
        "    \n",
        "    make_animal_speak(Dog())   # Output: Dog barks\n",
        "    \n",
        "    make_animal_speak(Cat())   # Output: Cat meows\n",
        "\n",
        "8. How is encapsulation achieved in Python?\n",
        "\n",
        "    -> Encapsulation in Python is achieved by bundling data (variables) and the methods (functions) that operate on that data within a class, and by restricting direct access to some components using access modifiers.\n",
        "\n",
        "    This protects the internal state of an object from unintended interference.\n",
        "\n",
        "    How Encapsulation is Achieved:\n",
        "\n",
        "    1.By defining attributes as private using double underscores (__).\n",
        "\n",
        "    2.By using getter and setter methods to control access and updates.\n",
        "\n",
        "    3.By organizing data and behavior inside a class.\n",
        "\n",
        "    Example:\n",
        "\n",
        "    class Person:\n",
        "\n",
        "    def __init__(self, name, age):\n",
        "    \n",
        "    self.name = name          # Public\n",
        "    \n",
        "    self._age = age           # Protected\n",
        "    \n",
        "    self.__salary = 50000     # Private\n",
        "\n",
        "    def get_salary(self):\n",
        "    \n",
        "    return self.__salary\n",
        "\n",
        "    def set_salary(self, amount):\n",
        "    \n",
        "    if amount > 0:\n",
        "    \n",
        "    self.__salary = amount\n",
        "\n",
        "    p1 = Person(\"Riya\", 25)\n",
        "\n",
        "    print(p1.name)        \n",
        "    \n",
        "    print(p1._age)        \n",
        "   \n",
        "    print(p1.__salary)  \n",
        "\n",
        "    print(p1.get_salary())  \n",
        "\n",
        "    \n",
        "\n",
        "\n",
        "\n",
        "\n",
        "\n",
        "     "
      ],
      "metadata": {
        "id": "vnKtxXxxGZzV"
      }
    },
    {
      "cell_type": "code",
      "source": [
        "\n"
      ],
      "metadata": {
        "id": "DjjMtVlVOiN9",
        "outputId": "c6549091-bfbc-4db8-bc27-706ba7b6ea3f",
        "colab": {
          "base_uri": "https://localhost:8080/",
          "height": 155
        }
      },
      "execution_count": null,
      "outputs": [
        {
          "output_type": "display_data",
          "data": {
            "text/plain": [
              "<IPython.core.display.HTML object>"
            ],
            "text/html": [
              "\n",
              "<table border=\"1\" cellpadding=\"8\" cellspacing=\"0\" style=\"border-collapse: collapse; font-family: Arial;\">\n",
              "  <thead style=\"background-color: #4CAF50; color: white;\">\n",
              "    <tr>\n",
              "      <th>Access Level</th>\n",
              "      <th>Syntax Example</th>\n",
              "      <th>Description</th>\n",
              "    </tr>\n",
              "  </thead>\n",
              "  <tbody>\n",
              "    <tr>\n",
              "      <td><b>Public</b></td>\n",
              "      <td><code>self.name</code></td>\n",
              "      <td>Accessible from anywhere</td>\n",
              "    </tr>\n",
              "    <tr>\n",
              "      <td><b>Protected</b></td>\n",
              "      <td><code>self._name</code></td>\n",
              "      <td>Meant to be used only inside class or subclass</td>\n",
              "    </tr>\n",
              "    <tr>\n",
              "      <td><b>Private</b></td>\n",
              "      <td><code>self.__name</code></td>\n",
              "      <td>Cannot be accessed directly from outside the class</td>\n",
              "    </tr>\n",
              "  </tbody>\n",
              "</table>\n"
            ]
          },
          "metadata": {}
        }
      ]
    },
    {
      "cell_type": "markdown",
      "source": [
        "9. What is a constructor in Python?\n",
        "\n",
        "    -> A constructor in Python is a special method named __init__() that is automatically called when an object is created from a class.\n",
        "\n",
        "    Its main purpose is to initialize the object's attributes (i.e., set their default or initial values).\n",
        "\n",
        "    Example:\n",
        "\n",
        "    class Student:\n",
        "\n",
        "    def __init__(self, name, age):\n",
        "\n",
        "    self.name = name\n",
        "    \n",
        "    self.age = age\n",
        "\n",
        "    Creating an object\n",
        "\n",
        "    s1 = Student(\"Riya\", 22)\n",
        "\n",
        "    print(s1.name)  # Output: Riya\n",
        "    \n",
        "    print(s1.age)   # Output: 22\n",
        "\n",
        "    \n"
      ],
      "metadata": {
        "id": "kvzYV2FuOoJr"
      }
    },
    {
      "cell_type": "code",
      "source": [
        "\n"
      ],
      "metadata": {
        "colab": {
          "base_uri": "https://localhost:8080/",
          "height": 293
        },
        "id": "Fnuo18rQbM_S",
        "outputId": "292db1a5-ea87-4c19-9fc1-de61ee765982"
      },
      "execution_count": null,
      "outputs": [
        {
          "output_type": "display_data",
          "data": {
            "text/plain": [
              "<IPython.core.display.HTML object>"
            ],
            "text/html": [
              "\n",
              "<table border=\"1\" cellpadding=\"8\" cellspacing=\"0\" style=\"border-collapse: collapse; font-family: Arial;\">\n",
              "  <caption style=\"font-size: 20px; font-weight: bold; margin-bottom: 10px;\">Constructor in Python</caption>\n",
              "  <thead style=\"background-color: #4CAF50; color: white;\">\n",
              "    <tr>\n",
              "      <th>Feature</th>\n",
              "      <th>Description</th>\n",
              "    </tr>\n",
              "  </thead>\n",
              "  <tbody>\n",
              "    <tr>\n",
              "      <td>Definition</td>\n",
              "      <td>A special method used to initialize objects</td>\n",
              "    </tr>\n",
              "    <tr>\n",
              "      <td>Method Name</td>\n",
              "      <td><code>__init__()</code></td>\n",
              "    </tr>\n",
              "    <tr>\n",
              "      <td>When is it Called?</td>\n",
              "      <td>Automatically called when an object is created</td>\n",
              "    </tr>\n",
              "    <tr>\n",
              "      <td>Purpose</td>\n",
              "      <td>Initializes the object’s attributes</td>\n",
              "    </tr>\n",
              "    <tr>\n",
              "      <td>Special Method</td>\n",
              "      <td>Yes (a \"dunder\" method)</td>\n",
              "    </tr>\n",
              "    <tr>\n",
              "      <td><code>self</code> keyword</td>\n",
              "      <td>Refers to the current instance of the class</td>\n",
              "    </tr>\n",
              "  </tbody>\n",
              "</table>\n"
            ]
          },
          "metadata": {}
        }
      ]
    },
    {
      "cell_type": "markdown",
      "source": [
        "10. What are class and static methods in Python?\n",
        "\n",
        "    -> In Python, both class methods and static methods are used to define functions inside a class that do not act on instances (self) directly.\n",
        "\n",
        "    1.Class Method:\n",
        "\n",
        "    . Declared with @classmethod decorator.\n",
        "\n",
        "    . First parameter is always cls (refers to the class, not the object).\n",
        "\n",
        "    . Can access and modify class-level variables.\n",
        "\n",
        "    Example:\n",
        "    \n",
        "    class Demo:\n",
        "\n",
        "    count = 0\n",
        "\n",
        "    @classmethod\n",
        "\n",
        "    def show_count(cls):\n",
        "\n",
        "    print(\"Count is:\", cls.count)\n",
        "\n",
        "    2.Static Method\n",
        "\n",
        "    . Declared with @staticmethod decorator.\n",
        "\n",
        "    . No self or cls parameter.\n",
        "\n",
        "    . Does not access or modify class or instance variables.\n",
        "\n",
        "    . Acts like a regular function, but placed inside a class for logical grouping.\n",
        "\n",
        "    Example:\n",
        "\n",
        "    class Math:\n",
        "\n",
        "    @staticmethod\n",
        "\n",
        "    def add(a, b):\n",
        "\n",
        "    return a + b\n",
        "\n",
        "11. What is method overloading in Python?\n",
        "\n",
        "    -> Method Overloading is a feature that allows a class to have multiple methods with the same name but different parameters.\n",
        "\n",
        "    However, Python does not support true method overloading like languages such as Java or C++.\n",
        "    In Python, the latest method definition overrides the previous ones.\n",
        "\n",
        "    Example — Not Real Overloading in Python:\n",
        "\n",
        "    class Greet:\n",
        "\n",
        "    def hello(self):\n",
        "    \n",
        "    print(\"Hello!\")\n",
        "\n",
        "    def hello(self, name):\n",
        "    \n",
        "    print(f\"Hello, {name}!\")\n",
        "\n",
        "    g = Greet()\n",
        "    \n",
        "    g.hello(\"Riya\")   # Output: Hello, Riya!\n",
        "   \n",
        "    g.hello()       ❌ Error: Missing 1 required argument\n",
        "\n",
        "    How to Simulate Overloading in Python:\n",
        "    \n",
        "    Use default arguments or *args / **kwargs.\n",
        "\n",
        "    Example using default arguments:\n",
        "\n",
        "    class Greet:\n",
        "\n",
        "    def hello(self, name=None):\n",
        "    \n",
        "    if name:\n",
        "    \n",
        "    print(f\"Hello, {name}!\")\n",
        "    \n",
        "    else:\n",
        "    \n",
        "    print(\"Hello!\")\n",
        "\n",
        "    g = Greet()\n",
        "    \n",
        "    g.hello()          # Output: Hello!\n",
        "    \n",
        "    g.hello(\"Riya\")    # Output: Hello, Riya!\n",
        "\n",
        "12. What is method overriding in OOP?\n",
        "\n",
        "    -> Method Overriding in Object-Oriented Programming (OOP) is when a child class provides a specific implementation of a method that is already defined in its parent class.\n",
        "\n",
        "    It allows a subclass to customize or completely replace the behavior inherited from the parent class.\n",
        "\n",
        "    class Animal:\n",
        "\n",
        "    def speak(self):\n",
        "\n",
        "    print(\"Animal speaks\")\n",
        "\n",
        "    class Dog(Animal):\n",
        "\n",
        "    def speak(self):\n",
        "\n",
        "    print(\"Dog barks\")  # This overrides Animal's speak()\n",
        "\n",
        "    d = Dog()\n",
        "    \n",
        "    d.speak()  # Output: Dog barks\n",
        "\n",
        "\n",
        "\n",
        "\n"
      ],
      "metadata": {
        "id": "emxO6HbCbUKj"
      }
    },
    {
      "cell_type": "code",
      "source": [],
      "metadata": {
        "colab": {
          "base_uri": "https://localhost:8080/",
          "height": 293
        },
        "id": "DQttgDNRn-G9",
        "outputId": "e041f752-c5be-4725-bcb6-918e09eae7c6"
      },
      "execution_count": null,
      "outputs": [
        {
          "output_type": "display_data",
          "data": {
            "text/plain": [
              "<IPython.core.display.HTML object>"
            ],
            "text/html": [
              "\n",
              "<table border=\"1\" cellpadding=\"8\" cellspacing=\"0\" style=\"border-collapse: collapse; font-family: Arial;\">\n",
              "  <caption style=\"font-size: 20px; font-weight: bold; margin-bottom: 10px;\">Method Overriding in Python (OOP)</caption>\n",
              "  <thead style=\"background-color: #4CAF50; color: white;\">\n",
              "    <tr>\n",
              "      <th>Feature</th>\n",
              "      <th>Description</th>\n",
              "    </tr>\n",
              "  </thead>\n",
              "  <tbody>\n",
              "    <tr>\n",
              "      <td>Definition</td>\n",
              "      <td>When a child class provides its own version of a method defined in the parent class</td>\n",
              "    </tr>\n",
              "    <tr>\n",
              "      <td>Inheritance Required</td>\n",
              "      <td>Yes, the child class must inherit from a parent class</td>\n",
              "    </tr>\n",
              "    <tr>\n",
              "      <td>Method Name</td>\n",
              "      <td>Must be the same in both parent and child classes</td>\n",
              "    </tr>\n",
              "    <tr>\n",
              "      <td>Parameters</td>\n",
              "      <td>Should be the same or compatible with the parent method</td>\n",
              "    </tr>\n",
              "    <tr>\n",
              "      <td>When it Happens</td>\n",
              "      <td>At run-time</td>\n",
              "    </tr>\n",
              "    <tr>\n",
              "      <td>Purpose</td>\n",
              "      <td>To change or extend the behavior of the parent class method</td>\n",
              "    </tr>\n",
              "  </tbody>\n",
              "</table>\n"
            ]
          },
          "metadata": {}
        }
      ]
    },
    {
      "cell_type": "markdown",
      "source": [
        "13. What is a property decorator in Python?\n",
        "\n",
        "    -> The @property decorator in Python is used to turn a method into a read-only property, allowing you to access it like an attribute — without calling it like a function.\n",
        "\n",
        "    It’s part of Python’s approach to encapsulation and controlled access to instance variables.\n",
        "\n",
        "    Why Use property-\n",
        "\n",
        "    1.To hide implementation details.\n",
        "\n",
        "    2.To control access to private data.\n",
        "\n",
        "    3.To calculate values dynamically while treating them like attributes.\n",
        "\n",
        "    Example:\n",
        "\n",
        "    class Circle:\n",
        "\n",
        "    def __init__(self, radius):\n",
        "    \n",
        "    self._radius = radius\n",
        "\n",
        "    property\n",
        "    \n",
        "    def area(self):\n",
        "    \n",
        "    return 3.14 * self._radius ** 2\n",
        "\n",
        "    c = Circle(5)\n",
        "    \n",
        "    print(c.area)  # ✅ Accessed like an attribute (no parentheses)\n",
        "\n",
        "14. Why is polymorphism important in OOP?\n",
        "\n",
        "    -> Polymorphism is important in OOP because it allows objects of different classes to be treated as objects of a common superclass. This enables writing flexible, extensible, and reusable code.\n",
        "\n",
        "    It lets you use one interface (e.g., a method name) to represent different underlying forms (e.g., different class behaviors).\n",
        "\n",
        "    Example:\n",
        "\n",
        "    class Animal:\n",
        "\n",
        "    def speak(self):\n",
        "\n",
        "    print(\"Animal speaks\")\n",
        "\n",
        "    class Dog(Animal):\n",
        "    \n",
        "    def speak(self):\n",
        "    \n",
        "    print(\"Dog barks\")\n",
        "\n",
        "    class Cat(Animal):\n",
        "    \n",
        "    def speak(self):\n",
        "    \n",
        "    print(\"Cat meows\")\n",
        "\n",
        "    def make_sound(animal):\n",
        "    \n",
        "    animal.speak()\n",
        "\n",
        "    make_sound(Dog())   # Dog barks\n",
        "\n",
        "    make_sound(Cat())   # Cat meows\n"
      ],
      "metadata": {
        "id": "LdTNLt41oNT0"
      }
    },
    {
      "cell_type": "code",
      "source": [
        "\n"
      ],
      "metadata": {
        "colab": {
          "base_uri": "https://localhost:8080/",
          "height": 259
        },
        "id": "2qisaujX1nu_",
        "outputId": "d79bb799-295f-4ddc-f328-aa15e0a26f8d"
      },
      "execution_count": null,
      "outputs": [
        {
          "output_type": "display_data",
          "data": {
            "text/plain": [
              "<IPython.core.display.HTML object>"
            ],
            "text/html": [
              "\n",
              "<table border=\"1\" cellpadding=\"8\" cellspacing=\"0\" style=\"border-collapse: collapse; font-family: Arial;\">\n",
              "  <caption style=\"font-size: 20px; font-weight: bold; margin-bottom: 10px;\">Importance of Polymorphism in OOP</caption>\n",
              "  <thead style=\"background-color: #4CAF50; color: white;\">\n",
              "    <tr>\n",
              "      <th>Benefit</th>\n",
              "      <th>Description</th>\n",
              "    </tr>\n",
              "  </thead>\n",
              "  <tbody>\n",
              "    <tr>\n",
              "      <td>Code Reusability</td>\n",
              "      <td>Allows the same function or method to work with different object types</td>\n",
              "    </tr>\n",
              "    <tr>\n",
              "      <td>Extensibility</td>\n",
              "      <td>New classes can be added without modifying existing code</td>\n",
              "    </tr>\n",
              "    <tr>\n",
              "      <td>Improved Maintainability</td>\n",
              "      <td>Common interface reduces code duplication and simplifies maintenance</td>\n",
              "    </tr>\n",
              "    <tr>\n",
              "      <td>Cleaner Code</td>\n",
              "      <td>Reduces the need for complex if-else or switch statements</td>\n",
              "    </tr>\n",
              "    <tr>\n",
              "      <td>Dynamic Behavior</td>\n",
              "      <td>Enables method behavior to be decided at runtime</td>\n",
              "    </tr>\n",
              "  </tbody>\n",
              "</table>\n"
            ]
          },
          "metadata": {}
        }
      ]
    },
    {
      "cell_type": "markdown",
      "source": [
        "15. What is an abstract class in Python?\n",
        "\n",
        "    -> An abstract class in Python is a class that cannot be instantiated directly. It serves as a blueprint for other classes, and typically includes one or more abstract methods that must be implemented by subclasses.\n",
        "\n",
        "    Python provides abstract class support using the abc module (Abstract Base Classes).\n",
        "\n",
        "    Example:\n",
        "\n",
        "    from abc import ABC, abstractmethod\n",
        "\n",
        "    class Animal(ABC):\n",
        "    \n",
        "    @abstractmethod\n",
        "    \n",
        "    def speak(self):\n",
        "    \n",
        "    pass\n",
        "\n",
        "    class Dog(Animal):\n",
        "    \n",
        "    def speak(self):\n",
        "    \n",
        "    print(\"Dog barks\")\n",
        "\n",
        "    a = Animal()  # ❌ Error: Can't instantiate abstract class\n",
        "    \n",
        "    d = Dog()\n",
        "    \n",
        "    d.speak()        # ✅ Output: Dog barks\n",
        "\n",
        "    Why Use Abstract Classes?\n",
        "\n",
        "    1 To enforce structure across related classes\n",
        "\n",
        "    2 To create standard interfaces for subclasses\n",
        "\n",
        "    3 To ensure polymorphism and extensibility\n",
        "\n",
        "    "
      ],
      "metadata": {
        "id": "hXq8YhzH1umE"
      }
    },
    {
      "cell_type": "code",
      "source": [
        "\n"
      ],
      "metadata": {
        "colab": {
          "base_uri": "https://localhost:8080/",
          "height": 293
        },
        "id": "eFlWfPPQ2nNG",
        "outputId": "f3c2557a-5778-4462-b27f-97676fa138af"
      },
      "execution_count": null,
      "outputs": [
        {
          "output_type": "display_data",
          "data": {
            "text/plain": [
              "<IPython.core.display.HTML object>"
            ],
            "text/html": [
              "\n",
              "<table border=\"1\" cellpadding=\"8\" cellspacing=\"0\" style=\"border-collapse: collapse; font-family: Arial;\">\n",
              "  <caption style=\"font-size: 20px; font-weight: bold; margin-bottom: 10px;\">Abstract Class in Python</caption>\n",
              "  <thead style=\"background-color: #4CAF50; color: white;\">\n",
              "    <tr>\n",
              "      <th>Feature</th>\n",
              "      <th>Description</th>\n",
              "    </tr>\n",
              "  </thead>\n",
              "  <tbody>\n",
              "    <tr>\n",
              "      <td>Definition</td>\n",
              "      <td>A class that cannot be instantiated and is used as a blueprint for other classes</td>\n",
              "    </tr>\n",
              "    <tr>\n",
              "      <td>Module</td>\n",
              "      <td><code>abc</code> (Abstract Base Classes)</td>\n",
              "    </tr>\n",
              "    <tr>\n",
              "      <td>Decorator</td>\n",
              "      <td><code>@abstractmethod</code> is used to define abstract methods</td>\n",
              "    </tr>\n",
              "    <tr>\n",
              "      <td>Instantiation</td>\n",
              "      <td>Not allowed directly; must be subclassed</td>\n",
              "    </tr>\n",
              "    <tr>\n",
              "      <td>Purpose</td>\n",
              "      <td>To enforce that subclasses implement specific methods</td>\n",
              "    </tr>\n",
              "    <tr>\n",
              "      <td>Inheritance</td>\n",
              "      <td>Subclasses must implement all abstract methods to be instantiable</td>\n",
              "    </tr>\n",
              "  </tbody>\n",
              "</table>\n"
            ]
          },
          "metadata": {}
        }
      ]
    },
    {
      "cell_type": "markdown",
      "source": [
        "16. What are the advantages of OOP?\n",
        "\n",
        "    -> OOP offers a structured and modular approach to programming by organizing code around objects and classes. It makes code easier to manage, scale, and reuse.\n",
        "\n",
        "    "
      ],
      "metadata": {
        "id": "jU_5Q1CM2q-W"
      }
    },
    {
      "cell_type": "code",
      "source": [],
      "metadata": {
        "colab": {
          "base_uri": "https://localhost:8080/",
          "height": 362
        },
        "id": "ZptyV6Pe5JK_",
        "outputId": "01ff04ad-5059-4677-874a-de8e755b704c"
      },
      "execution_count": null,
      "outputs": [
        {
          "output_type": "display_data",
          "data": {
            "text/plain": [
              "<IPython.core.display.HTML object>"
            ],
            "text/html": [
              "\n",
              "<table border=\"1\" cellpadding=\"8\" cellspacing=\"0\" style=\"border-collapse: collapse; font-family: Arial;\">\n",
              "  <caption style=\"font-size: 20px; font-weight: bold; margin-bottom: 10px;\">Advantages of Object-Oriented Programming (OOP)</caption>\n",
              "  <thead style=\"background-color: #4CAF50; color: white;\">\n",
              "    <tr>\n",
              "      <th>Advantage</th>\n",
              "      <th>Description</th>\n",
              "    </tr>\n",
              "  </thead>\n",
              "  <tbody>\n",
              "    <tr>\n",
              "      <td>Modularity</td>\n",
              "      <td>Code is divided into classes and objects, making it organized and manageable</td>\n",
              "    </tr>\n",
              "    <tr>\n",
              "      <td>Reusability</td>\n",
              "      <td>Classes and methods can be reused across different programs</td>\n",
              "    </tr>\n",
              "    <tr>\n",
              "      <td>Encapsulation</td>\n",
              "      <td>Protects data by restricting direct access and bundling it with methods</td>\n",
              "    </tr>\n",
              "    <tr>\n",
              "      <td>Inheritance</td>\n",
              "      <td>Allows new classes to use properties and behaviors of existing classes</td>\n",
              "    </tr>\n",
              "    <tr>\n",
              "      <td>Polymorphism</td>\n",
              "      <td>Same method name behaves differently based on the object using it</td>\n",
              "    </tr>\n",
              "    <tr>\n",
              "      <td>Maintainability</td>\n",
              "      <td>Easy to maintain, update, or debug due to the modular structure</td>\n",
              "    </tr>\n",
              "    <tr>\n",
              "      <td>Scalability</td>\n",
              "      <td>Supports the development of large-scale, complex applications</td>\n",
              "    </tr>\n",
              "    <tr>\n",
              "      <td>Real-World Modeling</td>\n",
              "      <td>Objects can model real-world entities, improving code clarity and design</td>\n",
              "    </tr>\n",
              "  </tbody>\n",
              "</table>\n"
            ]
          },
          "metadata": {}
        }
      ]
    },
    {
      "cell_type": "markdown",
      "source": [
        "17. What is the Difference Between a Class Variable and an Instance Variable in Python?\n",
        "\n",
        "    -> In Python:\n",
        "\n",
        "    -: A class variable is shared by all instances of a class.\n",
        "\n",
        "    -: An instance variable is unique to each object, storing data that is specific to that object.\n",
        "    \n",
        "    Example:\n",
        "\n",
        "    class Student:\n",
        "    \n",
        "    school_name = \"ABC School\"  # Class variable\n",
        "\n",
        "    def __init__(self, name):\n",
        "    \n",
        "    self.name = name        # Instance variable\n",
        "\n",
        "    s1 = Student(\"Riya\")\n",
        "    \n",
        "    s2 = Student(\"Amit\")\n",
        "\n",
        "    print(s1.school_name)  # Output: ABC School\n",
        "    \n",
        "    print(s2.school_name)  # Output: ABC School\n",
        "    \n",
        "    print(s1.name)         # Output: Riya\n",
        "    \n",
        "    print(s2.name)         # Output: Amit\n",
        "\n",
        "    \n"
      ],
      "metadata": {
        "id": "kpDzBM4c6H88"
      }
    },
    {
      "cell_type": "code",
      "source": [
        "\n"
      ],
      "metadata": {
        "colab": {
          "base_uri": "https://localhost:8080/",
          "height": 259
        },
        "id": "yu8H_OAoI78T",
        "outputId": "01ac13cf-f4f6-45a0-a014-9ecf100aedb4"
      },
      "execution_count": 5,
      "outputs": [
        {
          "output_type": "display_data",
          "data": {
            "text/plain": [
              "<IPython.core.display.HTML object>"
            ],
            "text/html": [
              "\n",
              "<table border=\"1\" cellpadding=\"8\" cellspacing=\"0\" style=\"border-collapse: collapse; font-family: Arial;\">\n",
              "  <caption style=\"font-size: 20px; font-weight: bold; margin-bottom: 10px;\">Class Variable vs Instance Variable</caption>\n",
              "  <thead style=\"background-color: #4CAF50; color: white;\">\n",
              "    <tr>\n",
              "      <th>Feature</th>\n",
              "      <th>Class Variable</th>\n",
              "      <th>Instance Variable</th>\n",
              "    </tr>\n",
              "  </thead>\n",
              "  <tbody>\n",
              "    <tr>\n",
              "      <td>Definition</td>\n",
              "      <td>Defined inside the class but outside all methods</td>\n",
              "      <td>Defined inside methods using <code>self</code></td>\n",
              "    </tr>\n",
              "    <tr>\n",
              "      <td>Scope</td>\n",
              "      <td>Shared among all instances</td>\n",
              "      <td>Unique for each instance</td>\n",
              "    </tr>\n",
              "    <tr>\n",
              "      <td>Accessed Using</td>\n",
              "      <td><code>ClassName.var</code> or <code>object.var</code></td>\n",
              "      <td><code>object.var</code></td>\n",
              "    </tr>\n",
              "    <tr>\n",
              "      <td>Storage</td>\n",
              "      <td>Single copy at class level</td>\n",
              "      <td>Separate copy for every object</td>\n",
              "    </tr>\n",
              "    <tr>\n",
              "      <td>Use Case</td>\n",
              "      <td>For class-wide properties (e.g., school name)</td>\n",
              "      <td>For object-specific properties (e.g., student name)</td>\n",
              "    </tr>\n",
              "  </tbody>\n",
              "</table>\n"
            ]
          },
          "metadata": {}
        }
      ]
    },
    {
      "cell_type": "markdown",
      "source": [
        "18. What is multiple inheritance in Python?\n",
        "\n",
        "    -> Multiple inheritance is a feature in Python where a class can inherit from more than one parent class.\n",
        "    \n",
        "    This allows a subclass to combine the functionality of multiple classes into one.\n",
        "\n",
        "    Syntax:\n",
        "\n",
        "    class Parent1:\n",
        "    \n",
        "    pass\n",
        "\n",
        "    class Parent2:\n",
        "    \n",
        "    pass\n",
        "\n",
        "    class Child(Parent1, Parent2):\n",
        "    \n",
        "    pass\n",
        "\n",
        "    Example:\n",
        "\n",
        "    class Engine:\n",
        "   \n",
        "    def start(self):\n",
        "        \n",
        "    print(\"Engine started\")\n",
        "\n",
        "    class Radio:\n",
        "    \n",
        "    def play_music(self):\n",
        "    \n",
        "    print(\"Playing music\")\n",
        "\n",
        "    class Car(Engine, Radio):\n",
        "    \n",
        "    pass\n",
        "\n",
        "    my_car = Car()\n",
        "    \n",
        "    my_car.start()       # Output: Engine started\n",
        "    \n",
        "    my_car.play_music()  # Output: Playing music\n",
        "\n",
        "19. Explain the purpose of ‘’__str__’ and ‘__repr__’ ‘ methods in Python?\n",
        "\n",
        "    -> __str__() and __repr__() are special methods (dunder methods) in Python used to control how objects are represented as strings — useful for printing, debugging, and logging.\n",
        "\n",
        "    Example:\n",
        "\n",
        "    class Book:\n",
        "   \n",
        "    def __init__(self, title, author):\n",
        "    \n",
        "    self.title = title\n",
        "    \n",
        "    self.author = author\n",
        "\n",
        "    def __str__(self):\n",
        "    \n",
        "    return f\"'{self.title}' by {self.author}\"\n",
        "\n",
        "    def __repr__(self):\n",
        "    \n",
        "    return f\"Book('{self.title}', '{self.author}')\"\n",
        "\n",
        "    b = Book(\"1984\", \"George Orwell\")\n",
        "\n",
        "    print(str(b))   # Output: '1984' by George Orwell  → __str__\n",
        "    \n",
        "    print(repr(b))  # Output: Book('1984', 'George Orwell')  → __repr__\n"
      ],
      "metadata": {
        "id": "D7yL_Er_JAlP"
      }
    },
    {
      "cell_type": "code",
      "source": [],
      "metadata": {
        "colab": {
          "base_uri": "https://localhost:8080/",
          "height": 430
        },
        "id": "fQW7YBv-K3NC",
        "outputId": "f86a6ffc-76e2-4815-eeaf-98b41c7f353f"
      },
      "execution_count": 7,
      "outputs": [
        {
          "output_type": "display_data",
          "data": {
            "text/plain": [
              "<IPython.core.display.HTML object>"
            ],
            "text/html": [
              "\n",
              "<table border=\"1\" cellpadding=\"8\" cellspacing=\"0\" style=\"border-collapse: collapse; font-family: Arial;\">\n",
              "  <caption style=\"font-size: 20px; font-weight: bold; margin-bottom: 10px;\">__str__() vs __repr__() in Python</caption>\n",
              "  <thead style=\"background-color: #4CAF50; color: white;\">\n",
              "    <tr>\n",
              "      <th>Method</th>\n",
              "      <th>Purpose</th>\n",
              "    </tr>\n",
              "  </thead>\n",
              "  <tbody>\n",
              "    <tr>\n",
              "      <td><code>__str__()</code></td>\n",
              "      <td>Returns a <b>user-friendly</b> string representation of the object</td>\n",
              "    </tr>\n",
              "    <tr>\n",
              "      <td><code>__repr__()</code></td>\n",
              "      <td>Returns a <b>developer-focused</b> string that should ideally recreate the object</td>\n",
              "    </tr>\n",
              "  </tbody>\n",
              "</table>\n",
              "<br><br>\n",
              "<table border=\"1\" cellpadding=\"8\" cellspacing=\"0\" style=\"border-collapse: collapse; font-family: Arial;\">\n",
              "  <caption style=\"font-size: 18px; font-weight: bold; margin-bottom: 10px;\">Detailed Comparison</caption>\n",
              "  <thead style=\"background-color: #2196F3; color: white;\">\n",
              "    <tr>\n",
              "      <th>Feature</th>\n",
              "      <th>__str__()</th>\n",
              "      <th>__repr__()</th>\n",
              "    </tr>\n",
              "  </thead>\n",
              "  <tbody>\n",
              "    <tr>\n",
              "      <td>Purpose</td>\n",
              "      <td>User-friendly string representation</td>\n",
              "      <td>Developer-friendly/debug string (ideally unambiguous)</td>\n",
              "    </tr>\n",
              "    <tr>\n",
              "      <td>Audience</td>\n",
              "      <td>End users</td>\n",
              "      <td>Programmers/developers</td>\n",
              "    </tr>\n",
              "    <tr>\n",
              "      <td>Called By</td>\n",
              "      <td><code>print()</code>, <code>str()</code></td>\n",
              "      <td><code>repr()</code>, interactive shell</td>\n",
              "    </tr>\n",
              "    <tr>\n",
              "      <td>Return Type</td>\n",
              "      <td>Readable string</td>\n",
              "      <td>Unambiguous string (ideally recreates the object)</td>\n",
              "    </tr>\n",
              "    <tr>\n",
              "      <td>Fallback Behavior</td>\n",
              "      <td>If missing, falls back to <code>__repr__()</code></td>\n",
              "      <td>If missing, uses default representation</td>\n",
              "    </tr>\n",
              "  </tbody>\n",
              "</table>\n"
            ]
          },
          "metadata": {}
        }
      ]
    },
    {
      "cell_type": "markdown",
      "source": [
        "20. What is the significance of the ‘super()’ function in Python?\n",
        "\n",
        "    -> The super() function in Python is used to call methods of a parent (or superclass) from within a child (or subclass).\n",
        "    \n",
        "    It allows you to extend or override inherited methods without completely rewriting them.\n",
        "\n",
        "    Example:\n",
        "\n",
        "    class Animal:\n",
        "    \n",
        "    def __init__(self, name):\n",
        "    \n",
        "    self.name = name\n",
        "    \n",
        "    print(\"Animal created\")\n",
        "\n",
        "    class Dog(Animal):\n",
        "    \n",
        "    def __init__(self, name, breed):\n",
        "    \n",
        "    super().__init__(name)   # Calls Animal's constructor\n",
        "    \n",
        "    self.breed = breed\n",
        "    \n",
        "    print(\"Dog created\")\n",
        "\n",
        "    d = Dog(\"Rocky\", \"Labrador\")\n",
        "\n",
        "    Output\n",
        "\n",
        "    Animal created  \n",
        "    \n",
        "    Dog created\n",
        "\n"
      ],
      "metadata": {
        "id": "2-5_2-AIK9ww"
      }
    },
    {
      "cell_type": "code",
      "source": [
        "from IPython.display import display, HTML\n",
        "\n",
        "display(HTML(\"\"\"\n",
        "<table border=\"1\" cellpadding=\"8\" cellspacing=\"0\" style=\"border-collapse: collapse; font-family: Arial;\">\n",
        "  <caption style=\"font-size: 20px; font-weight: bold; margin-bottom: 10px;\">Significance of <code>super()</code> Function in Python</caption>\n",
        "  <thead style=\"background-color: #4CAF50; color: white;\">\n",
        "    <tr>\n",
        "      <th>Feature</th>\n",
        "      <th>Description</th>\n",
        "    </tr>\n",
        "  </thead>\n",
        "  <tbody>\n",
        "    <tr>\n",
        "      <td>Purpose</td>\n",
        "      <td>Calls a method from the parent class inside a child class</td>\n",
        "    </tr>\n",
        "    <tr>\n",
        "      <td>Usage</td>\n",
        "      <td><code>super().method_name()</code> or <code>super().__init__()</code></td>\n",
        "    </tr>\n",
        "    <tr>\n",
        "      <td>Code Reusability</td>\n",
        "      <td>Allows reuse of parent class methods and constructors</td>\n",
        "    </tr>\n",
        "    <tr>\n",
        "      <td>Cleaner Code</td>\n",
        "      <td>Prevents rewriting or duplicating parent class logic</td>\n",
        "    </tr>\n",
        "    <tr>\n",
        "      <td>Supports MRO</td>\n",
        "      <td>Respects Python's Method Resolution Order in multiple inheritance</td>\n",
        "    </tr>\n",
        "    <tr>\n",
        "      <td>Alternative</td>\n",
        "      <td>Can use <code>ParentClass.method(self)</code> but <code>super()</code> is preferred</td>\n",
        "    </tr>\n",
        "    <tr style=\"background-color:#f2f2f2;\">\n",
        "      <td>\n",
        "      </td>\n",
        "    </tr>\n",
        "  </tbody>\n",
        "</table>\n",
        "\"\"\"))\n"
      ],
      "metadata": {
        "colab": {
          "base_uri": "https://localhost:8080/",
          "height": 311
        },
        "id": "5OZ0YfCUMXjv",
        "outputId": "649f0ab4-35a7-44aa-f3e1-0b1e89494794"
      },
      "execution_count": 14,
      "outputs": [
        {
          "output_type": "display_data",
          "data": {
            "text/plain": [
              "<IPython.core.display.HTML object>"
            ],
            "text/html": [
              "\n",
              "<table border=\"1\" cellpadding=\"8\" cellspacing=\"0\" style=\"border-collapse: collapse; font-family: Arial;\">\n",
              "  <caption style=\"font-size: 20px; font-weight: bold; margin-bottom: 10px;\">Significance of <code>super()</code> Function in Python</caption>\n",
              "  <thead style=\"background-color: #4CAF50; color: white;\">\n",
              "    <tr>\n",
              "      <th>Feature</th>\n",
              "      <th>Description</th>\n",
              "    </tr>\n",
              "  </thead>\n",
              "  <tbody>\n",
              "    <tr>\n",
              "      <td>Purpose</td>\n",
              "      <td>Calls a method from the parent class inside a child class</td>\n",
              "    </tr>\n",
              "    <tr>\n",
              "      <td>Usage</td>\n",
              "      <td><code>super().method_name()</code> or <code>super().__init__()</code></td>\n",
              "    </tr>\n",
              "    <tr>\n",
              "      <td>Code Reusability</td>\n",
              "      <td>Allows reuse of parent class methods and constructors</td>\n",
              "    </tr>\n",
              "    <tr>\n",
              "      <td>Cleaner Code</td>\n",
              "      <td>Prevents rewriting or duplicating parent class logic</td>\n",
              "    </tr>\n",
              "    <tr>\n",
              "      <td>Supports MRO</td>\n",
              "      <td>Respects Python's Method Resolution Order in multiple inheritance</td>\n",
              "    </tr>\n",
              "    <tr>\n",
              "      <td>Alternative</td>\n",
              "      <td>Can use <code>ParentClass.method(self)</code> but <code>super()</code> is preferred</td>\n",
              "    </tr>\n",
              "    <tr style=\"background-color:#f2f2f2;\">\n",
              "      <td>\n",
              "      </td>\n",
              "    </tr>\n",
              "  </tbody>\n",
              "</table>\n"
            ]
          },
          "metadata": {}
        }
      ]
    },
    {
      "cell_type": "markdown",
      "source": [
        "21. What is the significance of the __del__ method in Python?\n",
        "\n",
        "    -> The __del__() method in Python is a special method (also called a destructor) that is called automatically when an object is about to be destroyed.\n",
        "    \n",
        "    It is mainly used for cleanup tasks, like closing files or releasing system resources.\n",
        "\n",
        "    Example:\n",
        "\n",
        "    class FileHandler:\n",
        "\n",
        "    def __init__(self, filename):\n",
        "    \n",
        "    self.file = open(filename, 'w')\n",
        "    \n",
        "    print(\"File opened\")\n",
        "\n",
        "    def __del__(self):\n",
        "    \n",
        "    self.file.close()\n",
        "    \n",
        "    print(\"File closed\")\n",
        "\n",
        "    handler = FileHandler(\"example.txt\")\n",
        "    \n",
        "    del handler  # __del__ is called here\n"
      ],
      "metadata": {
        "id": "G9uD_CoNNGaT"
      }
    },
    {
      "cell_type": "code",
      "source": [],
      "metadata": {
        "colab": {
          "base_uri": "https://localhost:8080/",
          "height": 294
        },
        "id": "DSuLY2g2N4aM",
        "outputId": "51719f80-2b7e-44e9-e7f1-90e640500c4b"
      },
      "execution_count": 15,
      "outputs": [
        {
          "output_type": "display_data",
          "data": {
            "text/plain": [
              "<IPython.core.display.HTML object>"
            ],
            "text/html": [
              "\n",
              "<table border=\"1\" cellpadding=\"8\" cellspacing=\"0\" style=\"border-collapse: collapse; font-family: Arial;\">\n",
              "  <caption style=\"font-size: 20px; font-weight: bold; margin-bottom: 10px;\">Overview of <code>__del__()</code> Method in Python</caption>\n",
              "  <thead style=\"background-color: #4CAF50; color: white;\">\n",
              "    <tr>\n",
              "      <th>Feature</th>\n",
              "      <th>Description</th>\n",
              "    </tr>\n",
              "  </thead>\n",
              "  <tbody>\n",
              "    <tr>\n",
              "      <td>Also Known As</td>\n",
              "      <td>Destructor</td>\n",
              "    </tr>\n",
              "    <tr>\n",
              "      <td>When It’s Called</td>\n",
              "      <td>When the object’s reference count becomes zero (i.e., it is garbage collected)</td>\n",
              "    </tr>\n",
              "    <tr>\n",
              "      <td>Defined As</td>\n",
              "      <td><code>def __del__(self):</code></td>\n",
              "    </tr>\n",
              "    <tr>\n",
              "      <td>Purpose</td>\n",
              "      <td>To perform final clean-up operations before the object is deleted</td>\n",
              "    </tr>\n",
              "    <tr>\n",
              "      <td>Not Reliable</td>\n",
              "      <td>Timing of execution is unpredictable (especially in complex programs)</td>\n",
              "    </tr>\n",
              "    <tr>\n",
              "      <td>Alternative</td>\n",
              "      <td>Use <code>with</code> statement or context managers (<code>__enter__</code> / <code>__exit__</code>) for resource management</td>\n",
              "    </tr>\n",
              "  </tbody>\n",
              "</table>\n"
            ]
          },
          "metadata": {}
        }
      ]
    },
    {
      "cell_type": "markdown",
      "source": [
        "22. What is the difference between @staticmethod and @classmethod in Python?\n",
        "\n",
        "    -> Both are decorators used to define methods inside a class that are not instance methods, but they differ in how they access class or instance data.\n",
        "\n",
        "    Example:\n",
        "\n",
        "    class Demo:\n",
        "    \n",
        "    class_var = 0\n",
        "\n",
        "    staticmethod\n",
        "    \n",
        "    def greet(name):\n",
        "    \n",
        "    print(f\"Hello, {name}\")\n",
        "\n",
        "    classmethod\n",
        "    \n",
        "    def increment_class_var(cls):\n",
        "    \n",
        "    cls.class_var += 1\n",
        "    \n",
        "    print(cls.class_var)\n",
        "\n",
        "    Demo.greet(\"Riya\")           # Hello, Riya\n",
        "\n",
        "    Demo.increment_class_var()   # 1\n",
        "\n"
      ],
      "metadata": {
        "id": "P16RCdOFN-BV"
      }
    },
    {
      "cell_type": "code",
      "source": [],
      "metadata": {
        "colab": {
          "base_uri": "https://localhost:8080/",
          "height": 259
        },
        "id": "ndf3gadIO0CF",
        "outputId": "dd97ccd2-fe38-45e9-b271-398eac735676"
      },
      "execution_count": 16,
      "outputs": [
        {
          "output_type": "display_data",
          "data": {
            "text/plain": [
              "<IPython.core.display.HTML object>"
            ],
            "text/html": [
              "\n",
              "<table border=\"1\" cellpadding=\"8\" cellspacing=\"0\" style=\"border-collapse: collapse; font-family: Arial;\">\n",
              "  <caption style=\"font-size: 20px; font-weight: bold; margin-bottom: 10px;\">Difference Between @staticmethod and @classmethod</caption>\n",
              "  <thead style=\"background-color: #4CAF50; color: white;\">\n",
              "    <tr>\n",
              "      <th>Feature</th>\n",
              "      <th>@staticmethod</th>\n",
              "      <th>@classmethod</th>\n",
              "    </tr>\n",
              "  </thead>\n",
              "  <tbody>\n",
              "    <tr>\n",
              "      <td>Bound To</td>\n",
              "      <td>Class only (no self or cls)</td>\n",
              "      <td>Class (receives cls as first argument)</td>\n",
              "    </tr>\n",
              "    <tr>\n",
              "      <td>First Argument</td>\n",
              "      <td>None</td>\n",
              "      <td><code>cls</code></td>\n",
              "    </tr>\n",
              "    <tr>\n",
              "      <td>Access to self</td>\n",
              "      <td>No</td>\n",
              "      <td>No</td>\n",
              "    </tr>\n",
              "    <tr>\n",
              "      <td>Access to class variables</td>\n",
              "      <td>No</td>\n",
              "      <td>Yes</td>\n",
              "    </tr>\n",
              "    <tr>\n",
              "      <td>Use Case</td>\n",
              "      <td>Utility/helper method</td>\n",
              "      <td>Factory method/class-level operation</td>\n",
              "    </tr>\n",
              "  </tbody>\n",
              "</table>\n"
            ]
          },
          "metadata": {}
        }
      ]
    },
    {
      "cell_type": "markdown",
      "source": [
        "23. How does polymorphism work in Python with inheritance?\n",
        "\n",
        "    -> Polymorphism in Python allows methods with the same name to behave differently based on the object calling them.\n",
        "    \n",
        "    When used with inheritance, polymorphism enables subclasses to override methods of the parent class, yet still be used interchangeably.\n",
        "\n",
        "    Example:\n",
        "\n",
        "    class Animal:\n",
        "    def speak(self):\n",
        "    \n",
        "    print(\"Animal makes a sound\")\n",
        "\n",
        "    class Dog(Animal):\n",
        "    \n",
        "    def speak(self):\n",
        "    \n",
        "    print(\"Dog barks\")\n",
        "\n",
        "    class Cat(Animal):\n",
        "    \n",
        "    def speak(self):\n",
        "    \n",
        "    print(\"Cat meows\")\n",
        "\n",
        "    def make_it_speak(animal):\n",
        "    \n",
        "    animal.speak()\n",
        "\n",
        "    Polymorphism in action\n",
        "    \n",
        "    a = Animal()\n",
        "    \n",
        "    d = Dog()\n",
        "    \n",
        "    c = Cat()\n",
        "\n",
        "    \n",
        "\n",
        "make_it_speak(a)  # Animal makes a sound\n",
        "make_it_speak(d)  # Dog barks\n",
        "make_it_speak(c)  # Cat meows\n",
        "\n"
      ],
      "metadata": {
        "id": "1mYQshk2O4xj"
      }
    },
    {
      "cell_type": "code",
      "source": [],
      "metadata": {
        "colab": {
          "base_uri": "https://localhost:8080/",
          "height": 259
        },
        "id": "N9xkffg-RXFU",
        "outputId": "2da1f128-f4a3-4eea-8032-db6420db98e3"
      },
      "execution_count": 17,
      "outputs": [
        {
          "output_type": "display_data",
          "data": {
            "text/plain": [
              "<IPython.core.display.HTML object>"
            ],
            "text/html": [
              "\n",
              "<table border=\"1\" cellpadding=\"8\" cellspacing=\"0\" style=\"border-collapse: collapse; font-family: Arial;\">\n",
              "  <caption style=\"font-size: 20px; font-weight: bold; margin-bottom: 10px;\">Polymorphism with Inheritance in Python</caption>\n",
              "  <thead style=\"background-color: #4CAF50; color: white;\">\n",
              "    <tr>\n",
              "      <th>Concept</th>\n",
              "      <th>Description</th>\n",
              "    </tr>\n",
              "  </thead>\n",
              "  <tbody>\n",
              "    <tr>\n",
              "      <td>Polymorphism</td>\n",
              "      <td>Same method name behaves differently based on the object</td>\n",
              "    </tr>\n",
              "    <tr>\n",
              "      <td>Inheritance</td>\n",
              "      <td>Child class inherits methods and attributes from a parent class</td>\n",
              "    </tr>\n",
              "    <tr>\n",
              "      <td>Method Overriding</td>\n",
              "      <td>Child class provides its own version of a method defined in the parent</td>\n",
              "    </tr>\n",
              "    <tr>\n",
              "      <td>Function Use</td>\n",
              "      <td>Functions can accept parent type but work correctly with any subclass object</td>\n",
              "    </tr>\n",
              "    <tr style=\"background-color:#f2f2f2;\">\n",
              "      <td>Example</td>\n",
              "      <td><code>def make_it_speak(animal): animal.speak()</code> works with any Animal subclass</td>\n",
              "    </tr>\n",
              "  </tbody>\n",
              "</table>\n"
            ]
          },
          "metadata": {}
        }
      ]
    },
    {
      "cell_type": "markdown",
      "source": [
        "24. What is method chaining in Python OOP?\n",
        "\n",
        "    -> Method chaining is a technique in Object-Oriented Programming where multiple methods are called on the same object in a single line, one after the other.\n",
        "    \n",
        "    This is achieved by designing methods to return self, which refers to the current object.\n",
        "\n",
        "    Example:\n",
        "\n",
        "    class TextEditor:\n",
        "    \n",
        "    def __init__(self):\n",
        "    \n",
        "    self.text = \"\"\n",
        "\n",
        "    def write(self, content):\n",
        "    \n",
        "    self.text += content\n",
        "    \n",
        "    return self\n",
        "\n",
        "    def bold(self):\n",
        "    \n",
        "    self.text = f\"<b>{self.text}</b>\"\n",
        "    \n",
        "    return self\n",
        "\n",
        "    def show(self):\n",
        "    \n",
        "    print(self.text)\n",
        "    \n",
        "    return self\n",
        "\n",
        "    Method chaining\n",
        "    \n",
        "    editor = TextEditor()\n",
        "    \n",
        "    editor.write(\"Hello \").write(\"World!\").bold().show()\n",
        "\n",
        "    \n"
      ],
      "metadata": {
        "id": "s2SoQrNdb0QJ"
      }
    },
    {
      "cell_type": "code",
      "source": [],
      "metadata": {
        "colab": {
          "base_uri": "https://localhost:8080/",
          "height": 259
        },
        "id": "rSOytvexd8uG",
        "outputId": "46431673-ed9a-43dd-838f-ec764e36d0c1"
      },
      "execution_count": 18,
      "outputs": [
        {
          "output_type": "display_data",
          "data": {
            "text/plain": [
              "<IPython.core.display.HTML object>"
            ],
            "text/html": [
              "\n",
              "<table border=\"1\" cellpadding=\"8\" cellspacing=\"0\" style=\"border-collapse: collapse; font-family: Arial;\">\n",
              "  <caption style=\"font-size: 20px; font-weight: bold; margin-bottom: 10px;\">Method Chaining in Python OOP</caption>\n",
              "  <thead style=\"background-color: #4CAF50; color: white;\">\n",
              "    <tr>\n",
              "      <th>Aspect</th>\n",
              "      <th>Description</th>\n",
              "    </tr>\n",
              "  </thead>\n",
              "  <tbody>\n",
              "    <tr>\n",
              "      <td>Definition</td>\n",
              "      <td>Calling multiple methods on the same object in a single line</td>\n",
              "    </tr>\n",
              "    <tr>\n",
              "      <td>How It Works</td>\n",
              "      <td>Each method returns <code>self</code> (the current object)</td>\n",
              "    </tr>\n",
              "    <tr>\n",
              "      <td>Benefit</td>\n",
              "      <td>More fluent, readable, and compact code</td>\n",
              "    </tr>\n",
              "    <tr>\n",
              "      <td>Common Use Case</td>\n",
              "      <td>Builder patterns, text formatting, data manipulation pipelines</td>\n",
              "    </tr>\n",
              "    <tr style=\"background-color:#f2f2f2;\">\n",
              "      <td>Example</td>\n",
              "      <td><code>obj.method1().method2().method3()</code></td>\n",
              "    </tr>\n",
              "  </tbody>\n",
              "</table>\n"
            ]
          },
          "metadata": {}
        }
      ]
    },
    {
      "cell_type": "markdown",
      "source": [
        "25. What is the purpose of the __call__ method in Python?\n",
        "\n",
        "    -> The __call__() method in Python allows an object to be called like a regular function.\n",
        "    \n",
        "    When a class defines this method, its instances can behave like functions — making the object callable.\n",
        "\n",
        "    Example:\n",
        "\n",
        "    class Greeter:\n",
        "    \n",
        "    def __init__(self, greeting):\n",
        "    \n",
        "    self.greeting = greeting\n",
        "\n",
        "    def __call__(self, name):\n",
        "    \n",
        "    print(f\"{self.greeting}, {name}!\")\n",
        "\n",
        "    hello = Greeter(\"Hello\")\n",
        "    \n",
        "    hello(\"Riya\")  # Output: Hello, Riya!\n",
        "\n",
        "    \n"
      ],
      "metadata": {
        "id": "OR-IezK9eBFm"
      }
    },
    {
      "cell_type": "code",
      "source": [],
      "metadata": {
        "colab": {
          "base_uri": "https://localhost:8080/",
          "height": 260
        },
        "id": "Sht00FDueZ5s",
        "outputId": "68e71f32-c733-4e14-af50-31b8eead7e38"
      },
      "execution_count": 19,
      "outputs": [
        {
          "output_type": "display_data",
          "data": {
            "text/plain": [
              "<IPython.core.display.HTML object>"
            ],
            "text/html": [
              "\n",
              "<table border=\"1\" cellpadding=\"8\" cellspacing=\"0\" style=\"border-collapse: collapse; font-family: Arial;\">\n",
              "  <caption style=\"font-size: 20px; font-weight: bold; margin-bottom: 10px;\">Purpose of <code>__call__()</code> Method in Python</caption>\n",
              "  <thead style=\"background-color: #4CAF50; color: white;\">\n",
              "    <tr>\n",
              "      <th>Aspect</th>\n",
              "      <th>Description</th>\n",
              "    </tr>\n",
              "  </thead>\n",
              "  <tbody>\n",
              "    <tr>\n",
              "      <td>Definition</td>\n",
              "      <td>Special method used to make an object behave like a function</td>\n",
              "    </tr>\n",
              "    <tr>\n",
              "      <td>Syntax</td>\n",
              "      <td><code>def __call__(self, *args, **kwargs):</code></td>\n",
              "    </tr>\n",
              "    <tr>\n",
              "      <td>When Called</td>\n",
              "      <td>When an object is called using parentheses, like <code>object()</code></td>\n",
              "    </tr>\n",
              "    <tr>\n",
              "      <td>Use Case</td>\n",
              "      <td>Function objects, decorators, callable configuration objects</td>\n",
              "    </tr>\n",
              "    <tr>\n",
              "      <td>Example</td>\n",
              "      <td><code>greeter(\"Riya\")</code> works if <code>greeter</code> is a class instance with <code>__call__</code></td>\n",
              "    </tr>\n",
              "  </tbody>\n",
              "</table>\n"
            ]
          },
          "metadata": {}
        }
      ]
    },
    {
      "cell_type": "markdown",
      "source": [
        "# Practical Questions\n",
        "\n",
        "1. Create a parent class Animal with a method speak() that prints a generic message. Create a child class Dog that overrides the speak() method to print \"Bark!\"."
      ],
      "metadata": {
        "id": "6cnhexy_ehwf"
      }
    },
    {
      "cell_type": "code",
      "source": [
        "# Parent class\n",
        "class Animal:\n",
        "    def speak(self):\n",
        "        print(\"The animal makes a sound.\")\n",
        "\n",
        "# Child class\n",
        "class Dog(Animal):\n",
        "    def speak(self):\n",
        "        print(\"Bark!\")\n",
        "\n",
        "# Test the classes\n",
        "a = Animal()\n",
        "a.speak()\n",
        "d = Dog()\n",
        "d.speak()\n"
      ],
      "metadata": {
        "colab": {
          "base_uri": "https://localhost:8080/"
        },
        "id": "RPpcU7WOeprl",
        "outputId": "f70ae1f5-e72b-4d90-fd66-91843ced3c01"
      },
      "execution_count": 20,
      "outputs": [
        {
          "output_type": "stream",
          "name": "stdout",
          "text": [
            "The animal makes a sound.\n",
            "Bark!\n"
          ]
        }
      ]
    },
    {
      "cell_type": "markdown",
      "source": [
        "2.  Write a program to create an abstract class Shape with a method area(). Derive classes Circle and Rectangle from it and implement the area() method in both."
      ],
      "metadata": {
        "id": "xXQ9foQ2ewTk"
      }
    },
    {
      "cell_type": "code",
      "source": [
        "from abc import ABC, abstractmethod\n",
        "import math\n",
        "\n",
        "# Abstract class\n",
        "class Shape(ABC):\n",
        "\n",
        "    @abstractmethod\n",
        "    def area(self):\n",
        "        pass\n",
        "\n",
        "# Circle class\n",
        "class Circle(Shape):\n",
        "    def __init__(self, radius):\n",
        "        self.radius = radius\n",
        "\n",
        "    def area(self):\n",
        "        return math.pi * self.radius * self.radius\n",
        "\n",
        "# Rectangle class\n",
        "class Rectangle(Shape):\n",
        "    def __init__(self, length, width):\n",
        "        self.length = length\n",
        "        self.width = width\n",
        "\n",
        "    def area(self):\n",
        "        return self.length * self.width\n",
        "\n",
        "# Test the classes\n",
        "c = Circle(5)\n",
        "r = Rectangle(4, 6)\n",
        "\n",
        "print(\"Area of Circle:\", round(c.area(), 2))\n",
        "print(\"Area of Rectangle:\", r.area())"
      ],
      "metadata": {
        "colab": {
          "base_uri": "https://localhost:8080/"
        },
        "id": "LvEcp3zafJSa",
        "outputId": "ab197ba0-92ff-429f-d92f-c4a81a35cc66"
      },
      "execution_count": 21,
      "outputs": [
        {
          "output_type": "stream",
          "name": "stdout",
          "text": [
            "Area of Circle: 78.54\n",
            "Area of Rectangle: 24\n"
          ]
        }
      ]
    },
    {
      "cell_type": "markdown",
      "source": [
        "3.  Implement a multi-level inheritance scenario where a class Vehicle has an attribute type. Derive a class Car and further derive a class ElectricCar that adds a battery attribute."
      ],
      "metadata": {
        "id": "b6GR-IjhfRrM"
      }
    },
    {
      "cell_type": "code",
      "source": [
        "# Base class\n",
        "class Vehicle:\n",
        "    def __init__(self, vehicle_type):\n",
        "        self.vehicle_type = vehicle_type\n",
        "\n",
        "    def show_type(self):\n",
        "        print(f\"Vehicle Type: {self.vehicle_type}\")\n",
        "\n",
        "# Derived class from Vehicle\n",
        "class Car(Vehicle):\n",
        "    def __init__(self, vehicle_type, brand):\n",
        "        super().__init__(vehicle_type)\n",
        "        self.brand = brand\n",
        "\n",
        "    def show_brand(self):\n",
        "        print(f\"Car Brand: {self.brand}\")\n",
        "\n",
        "# Derived class from Car\n",
        "class ElectricCar(Car):\n",
        "    def __init__(self, vehicle_type, brand, battery_capacity):\n",
        "        super().__init__(vehicle_type, brand)\n",
        "        self.battery_capacity = battery_capacity\n",
        "\n",
        "    def show_battery(self):\n",
        "        print(f\"Battery Capacity: {self.battery_capacity} kWh\")\n",
        "\n",
        "# Test the classes\n",
        "ecar = ElectricCar(\"Four Wheeler\", \"Tesla\", 75)\n",
        "ecar.show_type()\n",
        "ecar.show_brand()\n",
        "ecar.show_battery()\n"
      ],
      "metadata": {
        "colab": {
          "base_uri": "https://localhost:8080/"
        },
        "id": "jEMkGE_FfXCG",
        "outputId": "188342b2-62e0-489c-d94e-859385fc5931"
      },
      "execution_count": 22,
      "outputs": [
        {
          "output_type": "stream",
          "name": "stdout",
          "text": [
            "Vehicle Type: Four Wheeler\n",
            "Car Brand: Tesla\n",
            "Battery Capacity: 75 kWh\n"
          ]
        }
      ]
    },
    {
      "cell_type": "markdown",
      "source": [
        "4. Demonstrate polymorphism by creating a base class Bird with a method fly(). Create two derived classes Sparrow and Penguin that override the fly() method."
      ],
      "metadata": {
        "id": "nnv5RAdogXXj"
      }
    },
    {
      "cell_type": "code",
      "source": [
        "# Base class\n",
        "class Bird:\n",
        "    def fly(self):\n",
        "        print(\"Some birds can fly.\")\n",
        "\n",
        "# Derived class\n",
        "class Sparrow(Bird):\n",
        "    def fly(self):\n",
        "        print(\"Sparrow flies high in the sky.\")\n",
        "\n",
        "# Derived class\n",
        "class Penguin(Bird):\n",
        "    def fly(self):\n",
        "        print(\"Penguins cannot fly, they swim.\")\n",
        "\n",
        "# Polymorphism in action\n",
        "def bird_flight(bird):\n",
        "    bird.fly()\n",
        "\n",
        "# Test cases\n",
        "b1 = Sparrow()\n",
        "b2 = Penguin()\n",
        "\n",
        "bird_flight(b1)\n",
        "bird_flight(b2)\n"
      ],
      "metadata": {
        "colab": {
          "base_uri": "https://localhost:8080/"
        },
        "id": "WTjxQdU8ggu9",
        "outputId": "0929a9f3-070c-4685-88ec-83cf983ba3bc"
      },
      "execution_count": 25,
      "outputs": [
        {
          "output_type": "stream",
          "name": "stdout",
          "text": [
            "Sparrow flies high in the sky.\n",
            "Penguins cannot fly, they swim.\n"
          ]
        }
      ]
    },
    {
      "cell_type": "markdown",
      "source": [
        "5.  Demonstrate polymorphism by creating a base class Bird with a method fly(). Create two derived classes Sparrow and Penguin that override the fly() method."
      ],
      "metadata": {
        "id": "h6wHnrhuiqzz"
      }
    },
    {
      "cell_type": "code",
      "source": [
        "# Base class\n",
        "class Bird:\n",
        "    def fly(self):\n",
        "        print(\"Some birds can fly.\")\n",
        "\n",
        "# Derived class Sparrow\n",
        "class Sparrow(Bird):\n",
        "    def fly(self):\n",
        "        print(\"Sparrow flies high in the sky.\")\n",
        "\n",
        "# Derived class Penguin\n",
        "class Penguin(Bird):\n",
        "    def fly(self):\n",
        "        print(\"Penguins cannot fly, they swim.\")\n",
        "\n",
        "# Function that demonstrates polymorphism\n",
        "def bird_flight(bird):\n",
        "    bird.fly()\n",
        "\n",
        "# Creating objects\n",
        "sparrow = Sparrow()\n",
        "penguin = Penguin()\n",
        "\n",
        "# Calling the same method on different objects\n",
        "bird_flight(sparrow)\n",
        "bird_flight(penguin)\n"
      ],
      "metadata": {
        "colab": {
          "base_uri": "https://localhost:8080/"
        },
        "id": "A1uVBwveiubC",
        "outputId": "a626b0e3-33c0-4125-ff7e-4f3e36834d67"
      },
      "execution_count": 26,
      "outputs": [
        {
          "output_type": "stream",
          "name": "stdout",
          "text": [
            "Sparrow flies high in the sky.\n",
            "Penguins cannot fly, they swim.\n"
          ]
        }
      ]
    },
    {
      "cell_type": "markdown",
      "source": [
        "6.  Create a class MathOperations with a class method add_numbers() to add two numbers and a static method subtract_numbers() to subtract two numbers"
      ],
      "metadata": {
        "id": "Q74GRh_kjAEG"
      }
    },
    {
      "cell_type": "code",
      "source": [
        "class MathOperations:\n",
        "\n",
        "    @classmethod\n",
        "    def add_numbers(cls, a, b):\n",
        "        return a + b\n",
        "\n",
        "    @staticmethod\n",
        "    def subtract_numbers(a, b):\n",
        "        return a - b\n",
        "\n",
        "# Testing the methods\n",
        "print(\"Addition:\", MathOperations.add_numbers(10, 5))\n",
        "print(\"Subtraction:\", MathOperations.subtract_numbers(10, 5))\n"
      ],
      "metadata": {
        "colab": {
          "base_uri": "https://localhost:8080/"
        },
        "id": "ur3QbWo2lGAp",
        "outputId": "e22dd77f-61e8-44d3-bfd8-d08705f4dff2"
      },
      "execution_count": 27,
      "outputs": [
        {
          "output_type": "stream",
          "name": "stdout",
          "text": [
            "Addition: 15\n",
            "Subtraction: 5\n"
          ]
        }
      ]
    },
    {
      "cell_type": "markdown",
      "source": [
        "8.  Implement a class Person with a class method to count the total number of persons created."
      ],
      "metadata": {
        "id": "xgq_anmnlnLI"
      }
    },
    {
      "cell_type": "code",
      "source": [
        "class Person:\n",
        "    count = 0  # Class variable to track number of instances\n",
        "\n",
        "    def __init__(self, name):\n",
        "        self.name = name\n",
        "        Person.count += 1  # Increment count whenever a new object is created\n",
        "\n",
        "    @classmethod\n",
        "    def total_persons(cls):\n",
        "        return cls.count\n",
        "\n",
        "# Creating Person instances\n",
        "p1 = Person(\"Alice\")\n",
        "p2 = Person(\"Bob\")\n",
        "p3 = Person(\"Charlie\")\n",
        "\n",
        "# Display total number of persons created\n",
        "print(\"Total Persons Created:\", Person.total_persons())\n"
      ],
      "metadata": {
        "colab": {
          "base_uri": "https://localhost:8080/"
        },
        "id": "iQTHjHuKlobP",
        "outputId": "99794b4b-411c-48f3-ea68-e0816ec7fcfe"
      },
      "execution_count": 28,
      "outputs": [
        {
          "output_type": "stream",
          "name": "stdout",
          "text": [
            "Total Persons Created: 3\n"
          ]
        }
      ]
    },
    {
      "cell_type": "markdown",
      "source": [
        "9.  Write a class Fraction with attributes numerator and denominator. Override the str method to display the fraction as \"numerator/denominator\"."
      ],
      "metadata": {
        "id": "BK6ex7SSmBDj"
      }
    },
    {
      "cell_type": "code",
      "source": [
        "class Fraction:\n",
        "    def __init__(self, numerator, denominator):\n",
        "        self.numerator = numerator\n",
        "        self.denominator = denominator\n",
        "\n",
        "    def __str__(self):\n",
        "        return f\"{self.numerator}/{self.denominator}\"\n",
        "\n",
        "# Creating a Fraction object\n",
        "f = Fraction(3, 4)\n",
        "print(f)\n"
      ],
      "metadata": {
        "colab": {
          "base_uri": "https://localhost:8080/"
        },
        "id": "1GgYSTg5mIUP",
        "outputId": "162094ce-7446-4865-81b2-cd396c6add2b"
      },
      "execution_count": 29,
      "outputs": [
        {
          "output_type": "stream",
          "name": "stdout",
          "text": [
            "3/4\n"
          ]
        }
      ]
    },
    {
      "cell_type": "markdown",
      "source": [
        "10. Demonstrate operator overloading by creating a class Vector and overriding the add method to add two vectors."
      ],
      "metadata": {
        "id": "vk3TUrJRmMre"
      }
    },
    {
      "cell_type": "code",
      "source": [
        "class Vector:\n",
        "    def __init__(self, x, y):\n",
        "        self.x = x\n",
        "        self.y = y\n",
        "\n",
        "    def __add__(self, other):\n",
        "        return Vector(self.x + other.x, self.y + other.y)\n",
        "\n",
        "    def __str__(self):\n",
        "        return f\"({self.x}, {self.y})\"\n",
        "\n",
        "# Creating vector objects\n",
        "v1 = Vector(2, 3)\n",
        "v2 = Vector(4, 5)\n",
        "\n",
        "# Adding vectors using overloaded +\n",
        "result = v1 + v2\n",
        "\n",
        "# Display result\n",
        "print(\"Resultant Vector:\", result)\n"
      ],
      "metadata": {
        "colab": {
          "base_uri": "https://localhost:8080/"
        },
        "id": "44k4KUKmmTef",
        "outputId": "20d77d6b-2e37-4b2b-d5c3-212b7dd98e9b"
      },
      "execution_count": 30,
      "outputs": [
        {
          "output_type": "stream",
          "name": "stdout",
          "text": [
            "Resultant Vector: (6, 8)\n"
          ]
        }
      ]
    },
    {
      "cell_type": "markdown",
      "source": [
        "11. Create a class Person with attributes name and age. Add a method greet() that prints \"Hello, my name is {name} and I am {age} years old.\""
      ],
      "metadata": {
        "id": "eT-sV1p1mYTk"
      }
    },
    {
      "cell_type": "code",
      "source": [
        "class Person:\n",
        "    def __init__(self, name, age):\n",
        "        self.name = name\n",
        "        self.age = age\n",
        "\n",
        "    def greet(self):\n",
        "        print(f\"Hello, my name is {self.name} and I am {self.age} years old.\")\n",
        "\n",
        "# Creating a Person object and calling greet\n",
        "p = Person(\"Riya\", 25)\n",
        "p.greet()\n"
      ],
      "metadata": {
        "colab": {
          "base_uri": "https://localhost:8080/"
        },
        "id": "11-EdNDRmfhi",
        "outputId": "75895637-3373-4cc0-98e0-c771b10c5f6d"
      },
      "execution_count": 31,
      "outputs": [
        {
          "output_type": "stream",
          "name": "stdout",
          "text": [
            "Hello, my name is Riya and I am 25 years old.\n"
          ]
        }
      ]
    },
    {
      "cell_type": "markdown",
      "source": [
        "12. Implement a class Student with attributes name and grades. Create a method average_grade() to compute the average of the grades."
      ],
      "metadata": {
        "id": "VClcOTNbmtKw"
      }
    },
    {
      "cell_type": "code",
      "source": [
        "class Student:\n",
        "    def __init__(self, name, grades):\n",
        "        self.name = name\n",
        "        self.grades = grades  # A list of numeric grades\n",
        "\n",
        "    def average_grade(self):\n",
        "        if self.grades:\n",
        "            return sum(self.grades) / len(self.grades)\n",
        "        else:\n",
        "            return 0\n",
        "\n",
        "# Example usage\n",
        "s = Student(\"Riya\", [85, 90, 78, 92])\n",
        "print(f\"Average grade for {s.name}: {s.average_grade():.2f}\")\n"
      ],
      "metadata": {
        "colab": {
          "base_uri": "https://localhost:8080/"
        },
        "id": "5cydgsAEmwHx",
        "outputId": "b1ebdabb-bce0-4c1b-954f-681dcbcf3a7d"
      },
      "execution_count": 32,
      "outputs": [
        {
          "output_type": "stream",
          "name": "stdout",
          "text": [
            "Average grade for Riya: 86.25\n"
          ]
        }
      ]
    },
    {
      "cell_type": "markdown",
      "source": [
        "13. Create a class Rectangle with methods set_dimensions() to set the dimensions and area() to calculate the area."
      ],
      "metadata": {
        "id": "71Btj4V-m48o"
      }
    },
    {
      "cell_type": "code",
      "source": [
        "class Rectangle:\n",
        "    def __init__(self):\n",
        "        self.length = 0\n",
        "        self.width = 0\n",
        "\n",
        "    def set_dimensions(self, length, width):\n",
        "        self.length = length\n",
        "        self.width = width\n",
        "\n",
        "    def area(self):\n",
        "        return self.length * self.width\n",
        "\n",
        "# Example usage\n",
        "r = Rectangle()\n",
        "r.set_dimensions(5, 3)\n",
        "print(\"Area of Rectangle:\", r.area())\n"
      ],
      "metadata": {
        "colab": {
          "base_uri": "https://localhost:8080/"
        },
        "id": "-7L7vdUBm_VD",
        "outputId": "f173aa59-7449-40e0-d9d1-b1b059891533"
      },
      "execution_count": 33,
      "outputs": [
        {
          "output_type": "stream",
          "name": "stdout",
          "text": [
            "Area of Rectangle: 15\n"
          ]
        }
      ]
    },
    {
      "cell_type": "markdown",
      "source": [
        "14.  Create a class Employee with a method calculate_salary() that computes the salary based on hours worked and hourly rate. Create a derived class Manager that adds a bonus to the salary."
      ],
      "metadata": {
        "id": "IqTNPs7nnC0y"
      }
    },
    {
      "cell_type": "code",
      "source": [
        "# Base class\n",
        "class Employee:\n",
        "    def __init__(self, name, hours_worked, hourly_rate):\n",
        "        self.name = name\n",
        "        self.hours_worked = hours_worked\n",
        "        self.hourly_rate = hourly_rate\n",
        "\n",
        "    def calculate_salary(self):\n",
        "        return self.hours_worked * self.hourly_rate\n",
        "\n",
        "# Derived class\n",
        "class Manager(Employee):\n",
        "    def __init__(self, name, hours_worked, hourly_rate, bonus):\n",
        "        super().__init__(name, hours_worked, hourly_rate)\n",
        "        self.bonus = bonus\n",
        "\n",
        "    def calculate_salary(self):\n",
        "        base_salary = super().calculate_salary()\n",
        "        return base_salary + self.bonus\n",
        "\n",
        "# Example usage\n",
        "e = Employee(\"Riya\", 40, 200)\n",
        "m = Manager(\"Ankit\", 40, 300, 5000)\n",
        "\n",
        "print(f\"{e.name}'s Salary: ₹{e.calculate_salary()}\")\n",
        "print(f\"{m.name}'s Salary: ₹{m.calculate_salary()}\")\n"
      ],
      "metadata": {
        "colab": {
          "base_uri": "https://localhost:8080/"
        },
        "id": "Ig01TPiMnHZu",
        "outputId": "8267b9de-5606-40c7-e760-fe526990f393"
      },
      "execution_count": 34,
      "outputs": [
        {
          "output_type": "stream",
          "name": "stdout",
          "text": [
            "Riya's Salary: ₹8000\n",
            "Ankit's Salary: ₹17000\n"
          ]
        }
      ]
    },
    {
      "cell_type": "markdown",
      "source": [
        "15. Create a class Product with attributes name, price, and quantity. Implement a method total_price() that calculates the total price of the product."
      ],
      "metadata": {
        "id": "4TGRUvDOnMr9"
      }
    },
    {
      "cell_type": "code",
      "source": [
        "class Product:\n",
        "    def __init__(self, name, price, quantity):\n",
        "        self.name = name\n",
        "        self.price = price\n",
        "        self.quantity = quantity\n",
        "\n",
        "    def total_price(self):\n",
        "        return self.price * self.quantity\n",
        "\n",
        "# Example usage\n",
        "p = Product(\"Laptop\", 50000, 2)\n",
        "print(f\"Total price for {p.name}: ₹{p.total_price()}\")"
      ],
      "metadata": {
        "colab": {
          "base_uri": "https://localhost:8080/"
        },
        "id": "uUq0gycpnQ35",
        "outputId": "8e2a46c8-2768-4083-ed01-4633c6f5eb0b"
      },
      "execution_count": 35,
      "outputs": [
        {
          "output_type": "stream",
          "name": "stdout",
          "text": [
            "Total price for Laptop: ₹100000\n"
          ]
        }
      ]
    },
    {
      "cell_type": "markdown",
      "source": [
        "16. Create a class Animal with an abstract method sound(). Create two derived classes Cow and Sheep that implement the sound() method."
      ],
      "metadata": {
        "id": "bxQWt4zknnKa"
      }
    },
    {
      "cell_type": "code",
      "source": [
        "from abc import ABC, abstractmethod\n",
        "\n",
        "# Abstract base class\n",
        "class Animal(ABC):\n",
        "    @abstractmethod\n",
        "    def sound(self):\n",
        "        pass\n",
        "\n",
        "# Derived class Cow\n",
        "class Cow(Animal):\n",
        "    def sound(self):\n",
        "        print(\"Cow says Moo\")\n",
        "\n",
        "# Derived class Sheep\n",
        "class Sheep(Animal):\n",
        "    def sound(self):\n",
        "        print(\"Sheep says Baa\")\n",
        "\n",
        "# Example usage\n",
        "c = Cow()\n",
        "s = Sheep()\n",
        "\n",
        "c.sound()\n",
        "s.sound()\n"
      ],
      "metadata": {
        "colab": {
          "base_uri": "https://localhost:8080/"
        },
        "id": "LjBkcyrOnp93",
        "outputId": "ec86fc13-0e8e-494a-d52e-679b78d2f19a"
      },
      "execution_count": 36,
      "outputs": [
        {
          "output_type": "stream",
          "name": "stdout",
          "text": [
            "Cow says Moo\n",
            "Sheep says Baa\n"
          ]
        }
      ]
    },
    {
      "cell_type": "markdown",
      "source": [
        "17.  Create a class Book with attributes title, author, and year_published. Add a method get_book_info() that returns a formatted string with the book's details."
      ],
      "metadata": {
        "id": "7gBhM2r2n351"
      }
    },
    {
      "cell_type": "code",
      "source": [
        "class Book:\n",
        "    def __init__(self, title, author, year_published):\n",
        "        self.title = title\n",
        "        self.author = author\n",
        "        self.year_published = year_published\n",
        "\n",
        "    def get_book_info(self):\n",
        "        return f\"'{self.title}' by {self.author} (Published in {self.year_published})\"\n",
        "\n",
        "# Example usage\n",
        "b = Book(\"To Kill a Mockingbird\", \"Harper Lee\", 1960)\n",
        "print(b.get_book_info())\n",
        "\n"
      ],
      "metadata": {
        "colab": {
          "base_uri": "https://localhost:8080/"
        },
        "id": "xz7fhTPzn-mp",
        "outputId": "94d85cff-8ab8-4251-909f-11ad8b47df63"
      },
      "execution_count": 37,
      "outputs": [
        {
          "output_type": "stream",
          "name": "stdout",
          "text": [
            "'To Kill a Mockingbird' by Harper Lee (Published in 1960)\n"
          ]
        }
      ]
    },
    {
      "cell_type": "markdown",
      "source": [
        "18. Create a class House with attributes address and price. Create a derived class Mansion that adds an attribute number_of_rooms."
      ],
      "metadata": {
        "id": "EcjW5IX2oVom"
      }
    },
    {
      "cell_type": "code",
      "source": [
        "# Base class\n",
        "class House:\n",
        "    def __init__(self, address, price):\n",
        "        self.address = address\n",
        "        self.price = price\n",
        "\n",
        "# Derived class\n",
        "class Mansion(House):\n",
        "    def __init__(self, address, price, number_of_rooms):\n",
        "        super().__init__(address, price)\n",
        "        self.number_of_rooms = number_of_rooms\n",
        "\n",
        "# Example usage\n",
        "m = Mansion(\"123 Elite Street\", 50000000, 12)\n",
        "\n",
        "print(f\"Address: {m.address}\")\n",
        "print(f\"Price: ₹{m.price}\")\n",
        "print(f\"Number of Rooms: {m.number_of_rooms}\")\n"
      ],
      "metadata": {
        "colab": {
          "base_uri": "https://localhost:8080/"
        },
        "id": "lCb8xvjvoiS1",
        "outputId": "375778d6-c6bf-4ccb-fe68-253862e1f250"
      },
      "execution_count": 38,
      "outputs": [
        {
          "output_type": "stream",
          "name": "stdout",
          "text": [
            "Address: 123 Elite Street\n",
            "Price: ₹50000000\n",
            "Number of Rooms: 12\n"
          ]
        }
      ]
    }
  ]
}